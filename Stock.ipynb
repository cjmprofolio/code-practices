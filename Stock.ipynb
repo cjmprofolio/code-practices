{
 "cells": [
  {
   "cell_type": "code",
   "execution_count": 1,
   "id": "bb0da46f",
   "metadata": {},
   "outputs": [],
   "source": [
    "import numpy as np\n",
    "import pandas as pd\n",
    "import matplotlib.pyplot as plt\n",
    "import mplfinance as mpf\n",
    "import seaborn as sns\n",
    "import requests\n",
    "from bs4 import BeautifulSoup\n",
    "from selenium import webdriver\n",
    "from selenium.webdriver.support.ui import Select\n",
    "import re\n",
    "import time"
   ]
  },
  {
   "cell_type": "code",
   "execution_count": 2,
   "id": "3f12cc5b",
   "metadata": {},
   "outputs": [],
   "source": [
    "def get_stock_number_list():\n",
    "    '''\n",
    "    get stock number list from Taiwan Stock Exchange\n",
    "    '''\n",
    "    # fetch data from twse stock list\n",
    "    list_url='https://www.twse.com.tw/zh/stockSearch/stockSearch'\n",
    "    r= requests.get(list_url)\n",
    "    soup= BeautifulSoup(r.content, 'html.parser')\n",
    "    time.sleep(1)\n",
    "    r.close()\n",
    "    \n",
    "    # find data and set up dataframe\n",
    "    stock_html= soup.find_all('td')\n",
    "    stock_list=[]\n",
    "    for i in range(len(stock_html)):\n",
    "        stock_list.append(stock_html[i].get_text())\n",
    "    \n",
    "    numbers= [s[:4] for s in stock_list] #extract stock number from list \n",
    "    names= [s[4:] for s in stock_list] # extract stock names from list\n",
    "    \n",
    "    stock_number_list= pd.DataFrame({'Numbers':numbers, 'Names':names})\n",
    "    \n",
    "    # replace blank row with NAN and drop it\n",
    "    stock_number_list.replace(r'^\\s*$', np.nan, regex=True, inplace=True)\n",
    "    stock_number_list.dropna(axis=0, inplace=True)\n",
    "    # drop stock with '91' prefix\n",
    "    dropstks= stock_number_list.Numbers.str.match(r'^91')\n",
    "    stock_number_list.drop(stock_number_list[dropstks].index, inplace=True)\n",
    "    \n",
    "    return stock_number_list"
   ]
  },
  {
   "cell_type": "code",
   "execution_count": 3,
   "id": "3242ca50",
   "metadata": {
    "scrolled": true
   },
   "outputs": [
    {
     "name": "stdout",
     "output_type": "stream",
     "text": [
      "  Numbers Names\n",
      "0    1101    台泥\n",
      "1    1102    亞泥\n",
      "2    1103    嘉泥\n",
      "3    1104    環泥\n",
      "4    1108    幸福\n",
      "(1034, 2)\n"
     ]
    }
   ],
   "source": [
    "stock_number_list= get_stock_number_list()\n",
    "print(stock_number_list.head())\n",
    "print(stock_number_list.shape)"
   ]
  },
  {
   "cell_type": "code",
   "execution_count": 86,
   "id": "f18d3ac9",
   "metadata": {},
   "outputs": [
    {
     "data": {
      "text/html": [
       "<div>\n",
       "<style scoped>\n",
       "    .dataframe tbody tr th:only-of-type {\n",
       "        vertical-align: middle;\n",
       "    }\n",
       "\n",
       "    .dataframe tbody tr th {\n",
       "        vertical-align: top;\n",
       "    }\n",
       "\n",
       "    .dataframe thead th {\n",
       "        text-align: right;\n",
       "    }\n",
       "</style>\n",
       "<table border=\"1\" class=\"dataframe\">\n",
       "  <thead>\n",
       "    <tr style=\"text-align: right;\">\n",
       "      <th></th>\n",
       "      <th>Numbers</th>\n",
       "      <th>Names</th>\n",
       "    </tr>\n",
       "  </thead>\n",
       "  <tbody>\n",
       "    <tr>\n",
       "      <th>1004</th>\n",
       "      <td>9105</td>\n",
       "      <td>泰金寶-DR</td>\n",
       "    </tr>\n",
       "    <tr>\n",
       "      <th>1005</th>\n",
       "      <td>9105</td>\n",
       "      <td>05興業銅業</td>\n",
       "    </tr>\n",
       "    <tr>\n",
       "      <th>1006</th>\n",
       "      <td>9105</td>\n",
       "      <td>79歐聖</td>\n",
       "    </tr>\n",
       "  </tbody>\n",
       "</table>\n",
       "</div>"
      ],
      "text/plain": [
       "     Numbers   Names\n",
       "1004    9105  泰金寶-DR\n",
       "1005    9105  05興業銅業\n",
       "1006    9105    79歐聖"
      ]
     },
     "execution_count": 86,
     "metadata": {},
     "output_type": "execute_result"
    }
   ],
   "source": [
    "stock_number_list[stock_number_list.Numbers=='9105']"
   ]
  },
  {
   "cell_type": "markdown",
   "id": "215e2800",
   "metadata": {},
   "source": [
    "**每股盈餘年增率= [(本期每股盈餘 - 去年同期每股盈餘）/ 去年同期每股盈餘] * 100%**"
   ]
  },
  {
   "cell_type": "code",
   "execution_count": 4,
   "id": "5e8125b5",
   "metadata": {},
   "outputs": [
    {
     "name": "stdout",
     "output_type": "stream",
     "text": [
      "1034\n"
     ]
    }
   ],
   "source": [
    "stock_number= stock_number_list.Numbers.to_list()\n",
    "stock_rows= len(stock_number)\n",
    "print(stock_rows)"
   ]
  },
  {
   "cell_type": "code",
   "execution_count": 5,
   "id": "6f999b86",
   "metadata": {},
   "outputs": [],
   "source": [
    "eps_url= 'https://mopsfin.twse.com.tw'"
   ]
  },
  {
   "cell_type": "code",
   "execution_count": 6,
   "id": "49418867",
   "metadata": {},
   "outputs": [],
   "source": [
    "driver= webdriver.Safari()\n",
    "driver.get(eps_url)\n",
    "time.sleep(1)\n",
    "\n",
    "# set and click growth button\n",
    "growth_button= driver.find_element_by_id(\"a-2\")\n",
    "growth_button.click()\n",
    "time.sleep(1)\n",
    "\n",
    "# set and click epsYOY button\n",
    "epsYOY_button= driver.find_element_by_name(\"EPS\")\n",
    "epsYOY_button.click()\n",
    "time.sleep(1)\n",
    "\n",
    "# pre-warm output setting\n",
    "block= driver.find_element_by_class_name('companyInput')\n",
    "block.send_keys('2330')\n",
    "avg_button= driver.find_element_by_id(\"displayBcodeAVG\")\n",
    "avg_button.click()\n",
    "comavg_button= driver.find_element_by_id('displayCompanyAVG')\n",
    "comavg_button.click()\n",
    "compare_button= driver.find_element_by_class_name('button.solid.blue.compareBtn')\n",
    "compare_button.click()\n",
    "time.sleep(1)"
   ]
  },
  {
   "cell_type": "code",
   "execution_count": 7,
   "id": "eac3559f",
   "metadata": {
    "scrolled": true
   },
   "outputs": [
    {
     "name": "stdout",
     "output_type": "stream",
     "text": [
      "(969, 39)\n",
      "  Number Industry 2013Q1 2013Q2 2013Q3 2013Q4 2014Q1 2014Q2 2014Q3 2014Q4  \\\n",
      "0   1101   上市水泥工業   0.38    0.7   0.97   0.66    0.5   0.86   0.87    0.7   \n",
      "1   1102   上市水泥工業    0.4   0.83   0.34   0.67   0.47   1.21   0.64   0.69   \n",
      "2   1103   上市水泥工業   0.13  -0.05   0.29    1.6  -0.06   0.06   0.24   -0.2   \n",
      "3   1104   上市水泥工業    0.3   0.56   0.39   0.59    0.4   0.73   0.58   0.56   \n",
      "4   1108   上市水泥工業   0.17   0.11   0.14   0.02   0.18   0.37    0.2   0.18   \n",
      "\n",
      "   ... 2019Q4 2020Q1 2020Q2 2020Q3 2020Q4 2021Q1 2021Q2 2021Q3 2021Q4 2022Q1  \n",
      "0  ...   1.19   0.55   1.39    1.3   1.17   0.57   1.24   0.59   0.89    0.2  \n",
      "1  ...   1.27   0.24   1.49   1.57    1.4   1.02   1.44   1.04    1.2      -  \n",
      "2  ...  -0.29  -0.33   0.22   0.93   1.92   -0.2  -0.25   1.37   0.09  -0.12  \n",
      "3  ...   0.67   0.07   0.66    0.6   0.58   0.35   0.46    0.3   0.55      -  \n",
      "4  ...   0.11   0.23   0.33   0.24   0.16   0.13    0.2   0.09   0.23      -  \n",
      "\n",
      "[5 rows x 39 columns]\n"
     ]
    }
   ],
   "source": [
    "# input stock number to search yearly eps\n",
    "# check block number \n",
    "reset= driver.find_element_by_class_name(\"button.white.btn-setting.company-setting\")\n",
    "reset.click()\n",
    "blocks= driver.find_elements_by_class_name('companyInput')\n",
    "l= np.ceil(stock_rows/len(blocks)).astype('int')\n",
    "close= driver.find_element_by_class_name(\"close-button\")\n",
    "close.click()\n",
    "\n",
    "# construct output dataframe\n",
    "df= pd.DataFrame()\n",
    "\n",
    "for i in range(l):\n",
    "    # clear inputs\n",
    "    reset= driver.find_element_by_class_name(\"button.white.btn-setting.company-setting\")\n",
    "    reset.click()\n",
    "    time.sleep(0.5)\n",
    "    clear= driver.find_element_by_class_name(\"button.solid.white.clearBtn.clearCompany\")\n",
    "    clear.click()\n",
    "    time.sleep(0.5)\n",
    "    \n",
    "    st= i*10\n",
    "    ed= i*10 +10\n",
    "    n_input= len(stock_number[st:ed])\n",
    "    n_blocks= driver.find_elements_by_class_name('companyInput')[:n_input]\n",
    "    \n",
    "    # send inputs\n",
    "    for n, b in enumerate(n_blocks):\n",
    "        b.send_keys(stock_number[st+n])\n",
    "    compare_button= driver.find_element_by_class_name('button.solid.blue.compareBtn')\n",
    "    compare_button.click()\n",
    "    time.sleep(5)\n",
    "    \n",
    "    # prepare temporary empty lists\n",
    "    numbers=[]\n",
    "    industries=[]\n",
    "    eps_qua=[]\n",
    "    \n",
    "    # get number of rows\n",
    "    tablerows=driver.find_element_by_xpath('//*[@id=\"resultList1\"]/tbody')\n",
    "    rows= len(tablerows.find_elements_by_class_name('text-left'))\n",
    "    \n",
    "    # get names of columns\n",
    "    cols=[]\n",
    "    table= driver.find_element_by_xpath('//*[@id=\"resultList2\"]/thead/tr')\n",
    "    for c in table.find_elements_by_class_name('text-right'):\n",
    "        cols.append(c.text)\n",
    "    \n",
    "    # get stock info\n",
    "    for j in range(rows):\n",
    "        # get stock industry\n",
    "        label= driver.find_element_by_xpath('//*[@id=\"c' + str(j) + '\"]/..//label')\n",
    "        number= re.search('(\\d+\\w)', label.text).group(0)\n",
    "        industry= re.search('(?<=\\().+?(?=\\))',label.text).group(0)\n",
    "        numbers.append(number)\n",
    "        industries.append(industry)\n",
    "        # get stock eps\n",
    "        eps_set=[]\n",
    "        for k in range(len(cols)):\n",
    "            eps= driver.find_element_by_xpath('//*[@id=\"resultList2\"]/tbody/tr[' + str(j+1) + ']/td[' +str(k+1) + ']')\n",
    "            eps_set.append(eps.text)\n",
    "        eps_qua.append(eps_set)\n",
    "        \n",
    "    # construct df\n",
    "    temp1= pd.DataFrame({'Number':numbers, 'Industry': industries})\n",
    "    temp2= pd.DataFrame(data=eps_qua,  columns=cols, index=numbers)\n",
    "    temp_df= temp1.merge(temp2, left_on='Number', right_index=True, how='inner')\n",
    "    df= pd.concat([df, temp_df], ignore_index= True)\n",
    "print(df.shape)\n",
    "print(df.head())"
   ]
  },
  {
   "cell_type": "code",
   "execution_count": 8,
   "id": "bed1726f",
   "metadata": {},
   "outputs": [],
   "source": [
    "driver.quit()"
   ]
  },
  {
   "cell_type": "code",
   "execution_count": 210,
   "id": "55127b5f",
   "metadata": {},
   "outputs": [
    {
     "data": {
      "text/plain": [
       "'上市食品工業'"
      ]
     },
     "execution_count": 210,
     "metadata": {},
     "output_type": "execute_result"
    }
   ],
   "source": [
    "label= driver.find_element_by_xpath('//*[@id=\"c' + str(1) + '\"]/..//label')\n",
    "re.findall('(\\d+\\w)', label.text)\n",
    "re.search('(?<=\\().+?(?=\\))',label.text).group(0)"
   ]
  },
  {
   "cell_type": "code",
   "execution_count": 149,
   "id": "6b81a174",
   "metadata": {
    "scrolled": true
   },
   "outputs": [
    {
     "data": {
      "text/plain": [
       "['上市食品工業',\n",
       " '上市食品工業',\n",
       " '上市食品工業',\n",
       " '上市食品工業',\n",
       " '上市食品工業',\n",
       " '上市食品工業',\n",
       " '上市食品工業',\n",
       " '上市食品工業']"
      ]
     },
     "execution_count": 149,
     "metadata": {},
     "output_type": "execute_result"
    }
   ],
   "source": [
    "industries"
   ]
  },
  {
   "cell_type": "code",
   "execution_count": 150,
   "id": "75005b20",
   "metadata": {
    "scrolled": true
   },
   "outputs": [
    {
     "data": {
      "text/plain": [
       "['1213', '1215', '1216', '1217', '1218', '1219', '1220', '1225']"
      ]
     },
     "execution_count": 150,
     "metadata": {},
     "output_type": "execute_result"
    }
   ],
   "source": [
    "numbers"
   ]
  },
  {
   "cell_type": "code",
   "execution_count": 159,
   "id": "6a9349d6",
   "metadata": {},
   "outputs": [
    {
     "data": {
      "text/html": [
       "<div>\n",
       "<style scoped>\n",
       "    .dataframe tbody tr th:only-of-type {\n",
       "        vertical-align: middle;\n",
       "    }\n",
       "\n",
       "    .dataframe tbody tr th {\n",
       "        vertical-align: top;\n",
       "    }\n",
       "\n",
       "    .dataframe thead th {\n",
       "        text-align: right;\n",
       "    }\n",
       "</style>\n",
       "<table border=\"1\" class=\"dataframe\">\n",
       "  <thead>\n",
       "    <tr style=\"text-align: right;\">\n",
       "      <th></th>\n",
       "      <th>2013Q1</th>\n",
       "      <th>2013Q2</th>\n",
       "      <th>2013Q3</th>\n",
       "      <th>2013Q4</th>\n",
       "      <th>2014Q1</th>\n",
       "      <th>2014Q2</th>\n",
       "      <th>2014Q3</th>\n",
       "      <th>2014Q4</th>\n",
       "      <th>2015Q1</th>\n",
       "      <th>2015Q2</th>\n",
       "      <th>...</th>\n",
       "      <th>2019Q3</th>\n",
       "      <th>2019Q4</th>\n",
       "      <th>2020Q1</th>\n",
       "      <th>2020Q2</th>\n",
       "      <th>2020Q3</th>\n",
       "      <th>2020Q4</th>\n",
       "      <th>2021Q1</th>\n",
       "      <th>2021Q2</th>\n",
       "      <th>2021Q3</th>\n",
       "      <th>2021Q4</th>\n",
       "    </tr>\n",
       "  </thead>\n",
       "  <tbody>\n",
       "    <tr>\n",
       "      <th>1213</th>\n",
       "      <td>0.17</td>\n",
       "      <td>-0.1</td>\n",
       "      <td>0.41</td>\n",
       "      <td>-0.16</td>\n",
       "      <td>0.07</td>\n",
       "      <td>-0.01</td>\n",
       "      <td>0.29</td>\n",
       "      <td>-0.14</td>\n",
       "      <td>0.22</td>\n",
       "      <td>0</td>\n",
       "      <td>...</td>\n",
       "      <td>-0.22</td>\n",
       "      <td>-0.13</td>\n",
       "      <td>-0.22</td>\n",
       "      <td>0.16</td>\n",
       "      <td>-0.11</td>\n",
       "      <td>-0.3</td>\n",
       "      <td>-0.24</td>\n",
       "      <td>-0.41</td>\n",
       "      <td>-0.71</td>\n",
       "      <td>-0.3</td>\n",
       "    </tr>\n",
       "    <tr>\n",
       "      <th>1215</th>\n",
       "      <td>0.31</td>\n",
       "      <td>0.06</td>\n",
       "      <td>0.7</td>\n",
       "      <td>0.88</td>\n",
       "      <td>0.87</td>\n",
       "      <td>0.78</td>\n",
       "      <td>0.69</td>\n",
       "      <td>0.95</td>\n",
       "      <td>0.72</td>\n",
       "      <td>0.42</td>\n",
       "      <td>...</td>\n",
       "      <td>1.15</td>\n",
       "      <td>1.95</td>\n",
       "      <td>0.87</td>\n",
       "      <td>1.74</td>\n",
       "      <td>2.02</td>\n",
       "      <td>1.55</td>\n",
       "      <td>1.45</td>\n",
       "      <td>1.46</td>\n",
       "      <td>1.07</td>\n",
       "      <td>1.08</td>\n",
       "    </tr>\n",
       "    <tr>\n",
       "      <th>1216</th>\n",
       "      <td>0.75</td>\n",
       "      <td>0.59</td>\n",
       "      <td>0.87</td>\n",
       "      <td>0.35</td>\n",
       "      <td>0.81</td>\n",
       "      <td>0.6</td>\n",
       "      <td>0.35</td>\n",
       "      <td>0.36</td>\n",
       "      <td>0.79</td>\n",
       "      <td>0.81</td>\n",
       "      <td>...</td>\n",
       "      <td>0.91</td>\n",
       "      <td>0.5</td>\n",
       "      <td>0.79</td>\n",
       "      <td>1.12</td>\n",
       "      <td>1.26</td>\n",
       "      <td>0.62</td>\n",
       "      <td>0.95</td>\n",
       "      <td>0.95</td>\n",
       "      <td>1.01</td>\n",
       "      <td>0.6</td>\n",
       "    </tr>\n",
       "    <tr>\n",
       "      <th>1217</th>\n",
       "      <td>0.04</td>\n",
       "      <td>-0.04</td>\n",
       "      <td>-0.17</td>\n",
       "      <td>-0.11</td>\n",
       "      <td>-0.28</td>\n",
       "      <td>-0.29</td>\n",
       "      <td>-0.08</td>\n",
       "      <td>-0.08</td>\n",
       "      <td>-0.13</td>\n",
       "      <td>-0.13</td>\n",
       "      <td>...</td>\n",
       "      <td>0.16</td>\n",
       "      <td>-0.1</td>\n",
       "      <td>0.05</td>\n",
       "      <td>0.1</td>\n",
       "      <td>0.36</td>\n",
       "      <td>-0.04</td>\n",
       "      <td>0.14</td>\n",
       "      <td>0.23</td>\n",
       "      <td>0.18</td>\n",
       "      <td>-0.14</td>\n",
       "    </tr>\n",
       "    <tr>\n",
       "      <th>1218</th>\n",
       "      <td>-0.01</td>\n",
       "      <td>0.06</td>\n",
       "      <td>0.17</td>\n",
       "      <td>-0.57</td>\n",
       "      <td>0.07</td>\n",
       "      <td>-0.06</td>\n",
       "      <td>0.21</td>\n",
       "      <td>-0.02</td>\n",
       "      <td>-0.03</td>\n",
       "      <td>-0.04</td>\n",
       "      <td>...</td>\n",
       "      <td>0.54</td>\n",
       "      <td>0.16</td>\n",
       "      <td>0.26</td>\n",
       "      <td>0.47</td>\n",
       "      <td>0.7</td>\n",
       "      <td>0.32</td>\n",
       "      <td>0.34</td>\n",
       "      <td>0.28</td>\n",
       "      <td>0.29</td>\n",
       "      <td>0.31</td>\n",
       "    </tr>\n",
       "    <tr>\n",
       "      <th>1219</th>\n",
       "      <td>-0.11</td>\n",
       "      <td>-0.04</td>\n",
       "      <td>0.02</td>\n",
       "      <td>0.21</td>\n",
       "      <td>0.14</td>\n",
       "      <td>0.03</td>\n",
       "      <td>0</td>\n",
       "      <td>0.26</td>\n",
       "      <td>0.07</td>\n",
       "      <td>-0.01</td>\n",
       "      <td>...</td>\n",
       "      <td>0.09</td>\n",
       "      <td>0.4</td>\n",
       "      <td>0.83</td>\n",
       "      <td>0.23</td>\n",
       "      <td>0.41</td>\n",
       "      <td>0.43</td>\n",
       "      <td>0.73</td>\n",
       "      <td>0.15</td>\n",
       "      <td>-0.09</td>\n",
       "      <td>0.21</td>\n",
       "    </tr>\n",
       "    <tr>\n",
       "      <th>1220</th>\n",
       "      <td>0.12</td>\n",
       "      <td>0.04</td>\n",
       "      <td>0.19</td>\n",
       "      <td>-0.03</td>\n",
       "      <td>0.12</td>\n",
       "      <td>0.11</td>\n",
       "      <td>0.1</td>\n",
       "      <td>-0.02</td>\n",
       "      <td>-0.01</td>\n",
       "      <td>0.17</td>\n",
       "      <td>...</td>\n",
       "      <td>0.26</td>\n",
       "      <td>0.25</td>\n",
       "      <td>0.09</td>\n",
       "      <td>0.3</td>\n",
       "      <td>0.31</td>\n",
       "      <td>0.32</td>\n",
       "      <td>0.37</td>\n",
       "      <td>0.32</td>\n",
       "      <td>0.16</td>\n",
       "      <td>0.15</td>\n",
       "    </tr>\n",
       "    <tr>\n",
       "      <th>1225</th>\n",
       "      <td>0.13</td>\n",
       "      <td>0.11</td>\n",
       "      <td>-0.05</td>\n",
       "      <td>0.13</td>\n",
       "      <td>0.18</td>\n",
       "      <td>0.01</td>\n",
       "      <td>-0.29</td>\n",
       "      <td>0.34</td>\n",
       "      <td>0.14</td>\n",
       "      <td>0.05</td>\n",
       "      <td>...</td>\n",
       "      <td>0.42</td>\n",
       "      <td>0.44</td>\n",
       "      <td>0.36</td>\n",
       "      <td>0.29</td>\n",
       "      <td>0.39</td>\n",
       "      <td>0.68</td>\n",
       "      <td>0.91</td>\n",
       "      <td>0.47</td>\n",
       "      <td>0.13</td>\n",
       "      <td>0.56</td>\n",
       "    </tr>\n",
       "  </tbody>\n",
       "</table>\n",
       "<p>8 rows × 36 columns</p>\n",
       "</div>"
      ],
      "text/plain": [
       "     2013Q1 2013Q2 2013Q3 2013Q4 2014Q1 2014Q2 2014Q3 2014Q4 2015Q1 2015Q2  \\\n",
       "1213   0.17   -0.1   0.41  -0.16   0.07  -0.01   0.29  -0.14   0.22      0   \n",
       "1215   0.31   0.06    0.7   0.88   0.87   0.78   0.69   0.95   0.72   0.42   \n",
       "1216   0.75   0.59   0.87   0.35   0.81    0.6   0.35   0.36   0.79   0.81   \n",
       "1217   0.04  -0.04  -0.17  -0.11  -0.28  -0.29  -0.08  -0.08  -0.13  -0.13   \n",
       "1218  -0.01   0.06   0.17  -0.57   0.07  -0.06   0.21  -0.02  -0.03  -0.04   \n",
       "1219  -0.11  -0.04   0.02   0.21   0.14   0.03      0   0.26   0.07  -0.01   \n",
       "1220   0.12   0.04   0.19  -0.03   0.12   0.11    0.1  -0.02  -0.01   0.17   \n",
       "1225   0.13   0.11  -0.05   0.13   0.18   0.01  -0.29   0.34   0.14   0.05   \n",
       "\n",
       "      ... 2019Q3 2019Q4 2020Q1 2020Q2 2020Q3 2020Q4 2021Q1 2021Q2 2021Q3  \\\n",
       "1213  ...  -0.22  -0.13  -0.22   0.16  -0.11   -0.3  -0.24  -0.41  -0.71   \n",
       "1215  ...   1.15   1.95   0.87   1.74   2.02   1.55   1.45   1.46   1.07   \n",
       "1216  ...   0.91    0.5   0.79   1.12   1.26   0.62   0.95   0.95   1.01   \n",
       "1217  ...   0.16   -0.1   0.05    0.1   0.36  -0.04   0.14   0.23   0.18   \n",
       "1218  ...   0.54   0.16   0.26   0.47    0.7   0.32   0.34   0.28   0.29   \n",
       "1219  ...   0.09    0.4   0.83   0.23   0.41   0.43   0.73   0.15  -0.09   \n",
       "1220  ...   0.26   0.25   0.09    0.3   0.31   0.32   0.37   0.32   0.16   \n",
       "1225  ...   0.42   0.44   0.36   0.29   0.39   0.68   0.91   0.47   0.13   \n",
       "\n",
       "     2021Q4  \n",
       "1213   -0.3  \n",
       "1215   1.08  \n",
       "1216    0.6  \n",
       "1217  -0.14  \n",
       "1218   0.31  \n",
       "1219   0.21  \n",
       "1220   0.15  \n",
       "1225   0.56  \n",
       "\n",
       "[8 rows x 36 columns]"
      ]
     },
     "execution_count": 159,
     "metadata": {},
     "output_type": "execute_result"
    }
   ],
   "source": [
    "s1= pd.DataFrame(data=eps_qua,  columns=cols, index=numbers)\n",
    "s1"
   ]
  },
  {
   "cell_type": "code",
   "execution_count": 161,
   "id": "ec1f37fa",
   "metadata": {},
   "outputs": [
    {
     "data": {
      "text/html": [
       "<div>\n",
       "<style scoped>\n",
       "    .dataframe tbody tr th:only-of-type {\n",
       "        vertical-align: middle;\n",
       "    }\n",
       "\n",
       "    .dataframe tbody tr th {\n",
       "        vertical-align: top;\n",
       "    }\n",
       "\n",
       "    .dataframe thead th {\n",
       "        text-align: right;\n",
       "    }\n",
       "</style>\n",
       "<table border=\"1\" class=\"dataframe\">\n",
       "  <thead>\n",
       "    <tr style=\"text-align: right;\">\n",
       "      <th></th>\n",
       "      <th>Number</th>\n",
       "      <th>Industry</th>\n",
       "    </tr>\n",
       "  </thead>\n",
       "  <tbody>\n",
       "    <tr>\n",
       "      <th>0</th>\n",
       "      <td>1213</td>\n",
       "      <td>上市食品工業</td>\n",
       "    </tr>\n",
       "    <tr>\n",
       "      <th>1</th>\n",
       "      <td>1215</td>\n",
       "      <td>上市食品工業</td>\n",
       "    </tr>\n",
       "    <tr>\n",
       "      <th>2</th>\n",
       "      <td>1216</td>\n",
       "      <td>上市食品工業</td>\n",
       "    </tr>\n",
       "    <tr>\n",
       "      <th>3</th>\n",
       "      <td>1217</td>\n",
       "      <td>上市食品工業</td>\n",
       "    </tr>\n",
       "    <tr>\n",
       "      <th>4</th>\n",
       "      <td>1218</td>\n",
       "      <td>上市食品工業</td>\n",
       "    </tr>\n",
       "    <tr>\n",
       "      <th>5</th>\n",
       "      <td>1219</td>\n",
       "      <td>上市食品工業</td>\n",
       "    </tr>\n",
       "    <tr>\n",
       "      <th>6</th>\n",
       "      <td>1220</td>\n",
       "      <td>上市食品工業</td>\n",
       "    </tr>\n",
       "    <tr>\n",
       "      <th>7</th>\n",
       "      <td>1225</td>\n",
       "      <td>上市食品工業</td>\n",
       "    </tr>\n",
       "  </tbody>\n",
       "</table>\n",
       "</div>"
      ],
      "text/plain": [
       "  Number Industry\n",
       "0   1213   上市食品工業\n",
       "1   1215   上市食品工業\n",
       "2   1216   上市食品工業\n",
       "3   1217   上市食品工業\n",
       "4   1218   上市食品工業\n",
       "5   1219   上市食品工業\n",
       "6   1220   上市食品工業\n",
       "7   1225   上市食品工業"
      ]
     },
     "execution_count": 161,
     "metadata": {},
     "output_type": "execute_result"
    }
   ],
   "source": [
    "s2= pd.DataFrame({'Number':numbers, 'Industry': industries})\n",
    "s2"
   ]
  },
  {
   "cell_type": "code",
   "execution_count": 168,
   "id": "2d0e0c27",
   "metadata": {},
   "outputs": [
    {
     "data": {
      "text/html": [
       "<div>\n",
       "<style scoped>\n",
       "    .dataframe tbody tr th:only-of-type {\n",
       "        vertical-align: middle;\n",
       "    }\n",
       "\n",
       "    .dataframe tbody tr th {\n",
       "        vertical-align: top;\n",
       "    }\n",
       "\n",
       "    .dataframe thead th {\n",
       "        text-align: right;\n",
       "    }\n",
       "</style>\n",
       "<table border=\"1\" class=\"dataframe\">\n",
       "  <thead>\n",
       "    <tr style=\"text-align: right;\">\n",
       "      <th></th>\n",
       "      <th>Number</th>\n",
       "      <th>Industry</th>\n",
       "      <th>2013Q1</th>\n",
       "      <th>2013Q2</th>\n",
       "      <th>2013Q3</th>\n",
       "      <th>2013Q4</th>\n",
       "      <th>2014Q1</th>\n",
       "      <th>2014Q2</th>\n",
       "      <th>2014Q3</th>\n",
       "      <th>2014Q4</th>\n",
       "      <th>...</th>\n",
       "      <th>2019Q3</th>\n",
       "      <th>2019Q4</th>\n",
       "      <th>2020Q1</th>\n",
       "      <th>2020Q2</th>\n",
       "      <th>2020Q3</th>\n",
       "      <th>2020Q4</th>\n",
       "      <th>2021Q1</th>\n",
       "      <th>2021Q2</th>\n",
       "      <th>2021Q3</th>\n",
       "      <th>2021Q4</th>\n",
       "    </tr>\n",
       "  </thead>\n",
       "  <tbody>\n",
       "    <tr>\n",
       "      <th>0</th>\n",
       "      <td>1213</td>\n",
       "      <td>上市食品工業</td>\n",
       "      <td>0.17</td>\n",
       "      <td>-0.1</td>\n",
       "      <td>0.41</td>\n",
       "      <td>-0.16</td>\n",
       "      <td>0.07</td>\n",
       "      <td>-0.01</td>\n",
       "      <td>0.29</td>\n",
       "      <td>-0.14</td>\n",
       "      <td>...</td>\n",
       "      <td>-0.22</td>\n",
       "      <td>-0.13</td>\n",
       "      <td>-0.22</td>\n",
       "      <td>0.16</td>\n",
       "      <td>-0.11</td>\n",
       "      <td>-0.3</td>\n",
       "      <td>-0.24</td>\n",
       "      <td>-0.41</td>\n",
       "      <td>-0.71</td>\n",
       "      <td>-0.3</td>\n",
       "    </tr>\n",
       "    <tr>\n",
       "      <th>1</th>\n",
       "      <td>1215</td>\n",
       "      <td>上市食品工業</td>\n",
       "      <td>0.31</td>\n",
       "      <td>0.06</td>\n",
       "      <td>0.7</td>\n",
       "      <td>0.88</td>\n",
       "      <td>0.87</td>\n",
       "      <td>0.78</td>\n",
       "      <td>0.69</td>\n",
       "      <td>0.95</td>\n",
       "      <td>...</td>\n",
       "      <td>1.15</td>\n",
       "      <td>1.95</td>\n",
       "      <td>0.87</td>\n",
       "      <td>1.74</td>\n",
       "      <td>2.02</td>\n",
       "      <td>1.55</td>\n",
       "      <td>1.45</td>\n",
       "      <td>1.46</td>\n",
       "      <td>1.07</td>\n",
       "      <td>1.08</td>\n",
       "    </tr>\n",
       "    <tr>\n",
       "      <th>2</th>\n",
       "      <td>1216</td>\n",
       "      <td>上市食品工業</td>\n",
       "      <td>0.75</td>\n",
       "      <td>0.59</td>\n",
       "      <td>0.87</td>\n",
       "      <td>0.35</td>\n",
       "      <td>0.81</td>\n",
       "      <td>0.6</td>\n",
       "      <td>0.35</td>\n",
       "      <td>0.36</td>\n",
       "      <td>...</td>\n",
       "      <td>0.91</td>\n",
       "      <td>0.5</td>\n",
       "      <td>0.79</td>\n",
       "      <td>1.12</td>\n",
       "      <td>1.26</td>\n",
       "      <td>0.62</td>\n",
       "      <td>0.95</td>\n",
       "      <td>0.95</td>\n",
       "      <td>1.01</td>\n",
       "      <td>0.6</td>\n",
       "    </tr>\n",
       "    <tr>\n",
       "      <th>3</th>\n",
       "      <td>1217</td>\n",
       "      <td>上市食品工業</td>\n",
       "      <td>0.04</td>\n",
       "      <td>-0.04</td>\n",
       "      <td>-0.17</td>\n",
       "      <td>-0.11</td>\n",
       "      <td>-0.28</td>\n",
       "      <td>-0.29</td>\n",
       "      <td>-0.08</td>\n",
       "      <td>-0.08</td>\n",
       "      <td>...</td>\n",
       "      <td>0.16</td>\n",
       "      <td>-0.1</td>\n",
       "      <td>0.05</td>\n",
       "      <td>0.1</td>\n",
       "      <td>0.36</td>\n",
       "      <td>-0.04</td>\n",
       "      <td>0.14</td>\n",
       "      <td>0.23</td>\n",
       "      <td>0.18</td>\n",
       "      <td>-0.14</td>\n",
       "    </tr>\n",
       "    <tr>\n",
       "      <th>4</th>\n",
       "      <td>1218</td>\n",
       "      <td>上市食品工業</td>\n",
       "      <td>-0.01</td>\n",
       "      <td>0.06</td>\n",
       "      <td>0.17</td>\n",
       "      <td>-0.57</td>\n",
       "      <td>0.07</td>\n",
       "      <td>-0.06</td>\n",
       "      <td>0.21</td>\n",
       "      <td>-0.02</td>\n",
       "      <td>...</td>\n",
       "      <td>0.54</td>\n",
       "      <td>0.16</td>\n",
       "      <td>0.26</td>\n",
       "      <td>0.47</td>\n",
       "      <td>0.7</td>\n",
       "      <td>0.32</td>\n",
       "      <td>0.34</td>\n",
       "      <td>0.28</td>\n",
       "      <td>0.29</td>\n",
       "      <td>0.31</td>\n",
       "    </tr>\n",
       "    <tr>\n",
       "      <th>5</th>\n",
       "      <td>1219</td>\n",
       "      <td>上市食品工業</td>\n",
       "      <td>-0.11</td>\n",
       "      <td>-0.04</td>\n",
       "      <td>0.02</td>\n",
       "      <td>0.21</td>\n",
       "      <td>0.14</td>\n",
       "      <td>0.03</td>\n",
       "      <td>0</td>\n",
       "      <td>0.26</td>\n",
       "      <td>...</td>\n",
       "      <td>0.09</td>\n",
       "      <td>0.4</td>\n",
       "      <td>0.83</td>\n",
       "      <td>0.23</td>\n",
       "      <td>0.41</td>\n",
       "      <td>0.43</td>\n",
       "      <td>0.73</td>\n",
       "      <td>0.15</td>\n",
       "      <td>-0.09</td>\n",
       "      <td>0.21</td>\n",
       "    </tr>\n",
       "    <tr>\n",
       "      <th>6</th>\n",
       "      <td>1220</td>\n",
       "      <td>上市食品工業</td>\n",
       "      <td>0.12</td>\n",
       "      <td>0.04</td>\n",
       "      <td>0.19</td>\n",
       "      <td>-0.03</td>\n",
       "      <td>0.12</td>\n",
       "      <td>0.11</td>\n",
       "      <td>0.1</td>\n",
       "      <td>-0.02</td>\n",
       "      <td>...</td>\n",
       "      <td>0.26</td>\n",
       "      <td>0.25</td>\n",
       "      <td>0.09</td>\n",
       "      <td>0.3</td>\n",
       "      <td>0.31</td>\n",
       "      <td>0.32</td>\n",
       "      <td>0.37</td>\n",
       "      <td>0.32</td>\n",
       "      <td>0.16</td>\n",
       "      <td>0.15</td>\n",
       "    </tr>\n",
       "    <tr>\n",
       "      <th>7</th>\n",
       "      <td>1225</td>\n",
       "      <td>上市食品工業</td>\n",
       "      <td>0.13</td>\n",
       "      <td>0.11</td>\n",
       "      <td>-0.05</td>\n",
       "      <td>0.13</td>\n",
       "      <td>0.18</td>\n",
       "      <td>0.01</td>\n",
       "      <td>-0.29</td>\n",
       "      <td>0.34</td>\n",
       "      <td>...</td>\n",
       "      <td>0.42</td>\n",
       "      <td>0.44</td>\n",
       "      <td>0.36</td>\n",
       "      <td>0.29</td>\n",
       "      <td>0.39</td>\n",
       "      <td>0.68</td>\n",
       "      <td>0.91</td>\n",
       "      <td>0.47</td>\n",
       "      <td>0.13</td>\n",
       "      <td>0.56</td>\n",
       "    </tr>\n",
       "  </tbody>\n",
       "</table>\n",
       "<p>8 rows × 38 columns</p>\n",
       "</div>"
      ],
      "text/plain": [
       "  Number Industry 2013Q1 2013Q2 2013Q3 2013Q4 2014Q1 2014Q2 2014Q3 2014Q4  \\\n",
       "0   1213   上市食品工業   0.17   -0.1   0.41  -0.16   0.07  -0.01   0.29  -0.14   \n",
       "1   1215   上市食品工業   0.31   0.06    0.7   0.88   0.87   0.78   0.69   0.95   \n",
       "2   1216   上市食品工業   0.75   0.59   0.87   0.35   0.81    0.6   0.35   0.36   \n",
       "3   1217   上市食品工業   0.04  -0.04  -0.17  -0.11  -0.28  -0.29  -0.08  -0.08   \n",
       "4   1218   上市食品工業  -0.01   0.06   0.17  -0.57   0.07  -0.06   0.21  -0.02   \n",
       "5   1219   上市食品工業  -0.11  -0.04   0.02   0.21   0.14   0.03      0   0.26   \n",
       "6   1220   上市食品工業   0.12   0.04   0.19  -0.03   0.12   0.11    0.1  -0.02   \n",
       "7   1225   上市食品工業   0.13   0.11  -0.05   0.13   0.18   0.01  -0.29   0.34   \n",
       "\n",
       "   ... 2019Q3 2019Q4 2020Q1 2020Q2 2020Q3 2020Q4 2021Q1 2021Q2 2021Q3 2021Q4  \n",
       "0  ...  -0.22  -0.13  -0.22   0.16  -0.11   -0.3  -0.24  -0.41  -0.71   -0.3  \n",
       "1  ...   1.15   1.95   0.87   1.74   2.02   1.55   1.45   1.46   1.07   1.08  \n",
       "2  ...   0.91    0.5   0.79   1.12   1.26   0.62   0.95   0.95   1.01    0.6  \n",
       "3  ...   0.16   -0.1   0.05    0.1   0.36  -0.04   0.14   0.23   0.18  -0.14  \n",
       "4  ...   0.54   0.16   0.26   0.47    0.7   0.32   0.34   0.28   0.29   0.31  \n",
       "5  ...   0.09    0.4   0.83   0.23   0.41   0.43   0.73   0.15  -0.09   0.21  \n",
       "6  ...   0.26   0.25   0.09    0.3   0.31   0.32   0.37   0.32   0.16   0.15  \n",
       "7  ...   0.42   0.44   0.36   0.29   0.39   0.68   0.91   0.47   0.13   0.56  \n",
       "\n",
       "[8 rows x 38 columns]"
      ]
     },
     "execution_count": 168,
     "metadata": {},
     "output_type": "execute_result"
    }
   ],
   "source": [
    "s2.merge(s1, left_on='Number', right_index=True)"
   ]
  },
  {
   "cell_type": "code",
   "execution_count": null,
   "id": "2e1ae5da",
   "metadata": {},
   "outputs": [],
   "source": []
  },
  {
   "cell_type": "code",
   "execution_count": null,
   "id": "36566287",
   "metadata": {},
   "outputs": [],
   "source": []
  },
  {
   "cell_type": "code",
   "execution_count": 161,
   "id": "0114bc45",
   "metadata": {},
   "outputs": [
    {
     "data": {
      "text/plain": [
       "229"
      ]
     },
     "execution_count": 161,
     "metadata": {},
     "output_type": "execute_result"
    }
   ],
   "source": [
    "len(industries)"
   ]
  },
  {
   "cell_type": "code",
   "execution_count": 140,
   "id": "94314565",
   "metadata": {},
   "outputs": [
    {
     "data": {
      "text/plain": [
       "'//*[@id=\"c0\"]/..//label'"
      ]
     },
     "execution_count": 140,
     "metadata": {},
     "output_type": "execute_result"
    }
   ],
   "source": [
    "'//*[@id=\"c'+ str(0) +'\"]/..//label'"
   ]
  },
  {
   "cell_type": "code",
   "execution_count": 157,
   "id": "6880c1ef",
   "metadata": {},
   "outputs": [
    {
     "name": "stdout",
     "output_type": "stream",
     "text": [
      "['上市水泥工業'] 1101 台泥 (上市水泥工業)\n",
      "['上市水泥工業'] 1102 亞泥 (上市水泥工業)\n",
      "['上市水泥工業'] 1103 嘉泥 (上市水泥工業)\n",
      "['上市水泥工業'] 1104 環泥 (上市水泥工業)\n",
      "['上市水泥工業'] 1108 幸福 (上市水泥工業)\n",
      "['上市水泥工業'] 1109 信大 (上市水泥工業)\n",
      "['上市水泥工業'] 1110 東泥 (上市水泥工業)\n",
      "['上市食品工業'] 1201 味全 (上市食品工業)\n",
      "['上市食品工業'] 1203 味王 (上市食品工業)\n",
      "['上市食品工業'] 1210 大成 (上市食品工業)\n"
     ]
    }
   ],
   "source": [
    "for j in range(10):\n",
    "        # get stock industry\n",
    "        label= driver.find_element_by_xpath('//*[@id=\"c' + str(j) + '\"]/..//label')\n",
    "        industry= re.findall('(上\\S+業)',label.text)\n",
    "        print(industry,label.text)"
   ]
  },
  {
   "cell_type": "code",
   "execution_count": 148,
   "id": "85b85075",
   "metadata": {
    "scrolled": false
   },
   "outputs": [
    {
     "data": {
      "text/plain": [
       "'1102 亞泥 (上市水泥工業)'"
      ]
     },
     "execution_count": 148,
     "metadata": {},
     "output_type": "execute_result"
    }
   ],
   "source": [
    "driver.find_element_by_xpath('//*[@id=\"c'+str(1)+'\"]/..//label').text"
   ]
  },
  {
   "cell_type": "code",
   "execution_count": 149,
   "id": "d9cda7d6",
   "metadata": {},
   "outputs": [
    {
     "data": {
      "text/plain": [
       "'//*[@id=\"c1\"]/..//label'"
      ]
     },
     "execution_count": 149,
     "metadata": {},
     "output_type": "execute_result"
    }
   ],
   "source": [
    "'//*[@id=\"c'+str(1)+'\"]/..//label'"
   ]
  },
  {
   "cell_type": "code",
   "execution_count": 8,
   "id": "5343360a",
   "metadata": {},
   "outputs": [],
   "source": [
    "element= driver.find_elements_by_class_name('companyInput')"
   ]
  },
  {
   "cell_type": "code",
   "execution_count": 9,
   "id": "893a0632",
   "metadata": {},
   "outputs": [],
   "source": [
    "s=['2330','5880','2884','2885','2002','6026','','','','']"
   ]
  },
  {
   "cell_type": "code",
   "execution_count": 10,
   "id": "3a830bb4",
   "metadata": {
    "scrolled": true
   },
   "outputs": [],
   "source": [
    "for i, e in enumerate(element):\n",
    "    e.send_keys(s[i])"
   ]
  },
  {
   "cell_type": "markdown",
   "id": "d70b5f22",
   "metadata": {},
   "source": [
    "4test"
   ]
  },
  {
   "cell_type": "code",
   "execution_count": 32,
   "id": "8f51cf3f",
   "metadata": {},
   "outputs": [],
   "source": [
    "industry_button= driver.find_element_by_xpath('//*[@id=\"c2\"]/..//label')"
   ]
  },
  {
   "cell_type": "code",
   "execution_count": 33,
   "id": "418e2d7e",
   "metadata": {
    "scrolled": true
   },
   "outputs": [
    {
     "data": {
      "text/plain": [
       "'2884 玉山金 (上市金融保險業)'"
      ]
     },
     "execution_count": 33,
     "metadata": {},
     "output_type": "execute_result"
    }
   ],
   "source": [
    "industry_button.text"
   ]
  },
  {
   "cell_type": "code",
   "execution_count": 16,
   "id": "9af5daf0",
   "metadata": {},
   "outputs": [],
   "source": [
    "element= driver.find_element_by_class_name('companyInput')"
   ]
  },
  {
   "cell_type": "code",
   "execution_count": 17,
   "id": "da663f8c",
   "metadata": {},
   "outputs": [],
   "source": [
    "element.send_keys('2331')"
   ]
  },
  {
   "cell_type": "code",
   "execution_count": 2,
   "id": "cf23dae2",
   "metadata": {},
   "outputs": [],
   "source": [
    "driver= webdriver.Safari()"
   ]
  },
  {
   "cell_type": "code",
   "execution_count": 3,
   "id": "50563d8b",
   "metadata": {},
   "outputs": [],
   "source": [
    "web_url= 'https://www.twse.com.tw/zh/page/trading/exchange/STOCK_DAY.html'"
   ]
  },
  {
   "cell_type": "code",
   "execution_count": 4,
   "id": "ae9aae60",
   "metadata": {},
   "outputs": [],
   "source": [
    "driver.get(web_url)"
   ]
  },
  {
   "cell_type": "code",
   "execution_count": 6,
   "id": "d19bd34b",
   "metadata": {},
   "outputs": [],
   "source": [
    "year_select= Select(driver.find_element_by_name(\"yy\"))"
   ]
  },
  {
   "cell_type": "code",
   "execution_count": 7,
   "id": "60c2ca03",
   "metadata": {},
   "outputs": [],
   "source": [
    "# select year\n",
    "year_select.select_by_visible_text('民國 110 年')"
   ]
  },
  {
   "cell_type": "code",
   "execution_count": 8,
   "id": "9620dca6",
   "metadata": {},
   "outputs": [],
   "source": [
    "mon_select= Select(driver.find_element_by_name(\"mm\"))"
   ]
  },
  {
   "cell_type": "code",
   "execution_count": 9,
   "id": "032855b5",
   "metadata": {},
   "outputs": [],
   "source": [
    "# select month\n",
    "mon_select.select_by_visible_text('02月')"
   ]
  },
  {
   "cell_type": "code",
   "execution_count": 10,
   "id": "750e421d",
   "metadata": {},
   "outputs": [],
   "source": [
    "# select stock number\n",
    "num_input= driver.find_element_by_class_name(\"stock-code-autocomplete\")\n",
    "num_input.send_keys(2890)"
   ]
  },
  {
   "cell_type": "code",
   "execution_count": 11,
   "id": "45097ff0",
   "metadata": {},
   "outputs": [],
   "source": [
    "# Send stock request\n",
    "button= driver.find_element_by_class_name(\"button.search\")\n",
    "button.click()"
   ]
  },
  {
   "cell_type": "code",
   "execution_count": 12,
   "id": "e5e438e6",
   "metadata": {},
   "outputs": [],
   "source": [
    "html= driver.find_element_by_class_name(\"html\")"
   ]
  },
  {
   "cell_type": "code",
   "execution_count": 13,
   "id": "8b8a2b0b",
   "metadata": {},
   "outputs": [],
   "source": [
    "url= html.get_attribute('href')\n",
    "time.sleep(5)\n",
    "driver.close()"
   ]
  },
  {
   "cell_type": "code",
   "execution_count": 15,
   "id": "e5b24cfc",
   "metadata": {},
   "outputs": [],
   "source": [
    "r= requests.get(url)"
   ]
  },
  {
   "cell_type": "code",
   "execution_count": 16,
   "id": "19a1be39",
   "metadata": {},
   "outputs": [],
   "source": [
    "soup= BeautifulSoup(r.content, 'html.parser')"
   ]
  },
  {
   "cell_type": "code",
   "execution_count": 17,
   "id": "ff720305",
   "metadata": {},
   "outputs": [],
   "source": [
    "f1= soup.find('thead')"
   ]
  },
  {
   "cell_type": "code",
   "execution_count": 71,
   "id": "fa22a610",
   "metadata": {},
   "outputs": [
    {
     "data": {
      "text/plain": [
       "bs4.element.Tag"
      ]
     },
     "execution_count": 71,
     "metadata": {},
     "output_type": "execute_result"
    }
   ],
   "source": [
    "type(f1)"
   ]
  },
  {
   "cell_type": "code",
   "execution_count": 75,
   "id": "d430c5b2",
   "metadata": {},
   "outputs": [
    {
     "data": {
      "text/plain": [
       "<td>日期</td>"
      ]
     },
     "execution_count": 75,
     "metadata": {},
     "output_type": "execute_result"
    }
   ],
   "source": [
    "sub1= f1.find('td')\n",
    "f1.ge"
   ]
  },
  {
   "cell_type": "code",
   "execution_count": 39,
   "id": "5d9aec76",
   "metadata": {},
   "outputs": [],
   "source": [
    "tag_fields= soup.select('thead tr td')"
   ]
  },
  {
   "cell_type": "code",
   "execution_count": 40,
   "id": "7267fdfc",
   "metadata": {},
   "outputs": [
    {
     "name": "stdout",
     "output_type": "stream",
     "text": [
      "['日期', '成交股數', '成交金額', '開盤價', '最高價', '最低價', '收盤價', '漲跌價差', '成交筆數']\n"
     ]
    }
   ],
   "source": [
    "cols= []\n",
    "for col in tag_fields:\n",
    "    cols.append(col.get_text())\n",
    "print(cols)"
   ]
  },
  {
   "cell_type": "code",
   "execution_count": 41,
   "id": "b9c65291",
   "metadata": {},
   "outputs": [],
   "source": [
    "tag_data= soup.select('tbody tr td')"
   ]
  },
  {
   "cell_type": "code",
   "execution_count": 42,
   "id": "ad8a1f73",
   "metadata": {},
   "outputs": [
    {
     "name": "stdout",
     "output_type": "stream",
     "text": [
      "9 13\n"
     ]
    }
   ],
   "source": [
    "n= len(cols)\n",
    "m= int(len(tag_data)/n)\n",
    "print(n, m)"
   ]
  },
  {
   "cell_type": "code",
   "execution_count": 43,
   "id": "44521332",
   "metadata": {
    "scrolled": true
   },
   "outputs": [
    {
     "name": "stdout",
     "output_type": "stream",
     "text": [
      "[['110/02/01', '15,774,851', '174,213,855', '10.95', '11.10', '10.95', '11.10', '+0.15', '3,658']]\n"
     ]
    }
   ],
   "source": [
    "pre_values=[]\n",
    "values= []\n",
    "\n",
    "for data in tag_data:\n",
    "    pre_values.append(data.get_text())\n",
    "\n",
    "for i in range(m):\n",
    "    values.append(pre_values[i * n: (i+1) *n])\n",
    "print(values[:1])"
   ]
  },
  {
   "cell_type": "code",
   "execution_count": 44,
   "id": "35fe7fdc",
   "metadata": {},
   "outputs": [
    {
     "name": "stdout",
     "output_type": "stream",
     "text": [
      "          日期        成交股數         成交金額    開盤價    最高價    最低價    收盤價   漲跌價差  \\\n",
      "0  110/02/01  15,774,851  174,213,855  10.95  11.10  10.95  11.10  +0.15   \n",
      "1  110/02/02  15,968,550  177,788,390  11.10  11.20  11.05  11.10   0.00   \n",
      "\n",
      "    成交筆數  \n",
      "0  3,658  \n",
      "1  4,614  \n"
     ]
    }
   ],
   "source": [
    "df=pd.DataFrame(data=values, columns=cols)\n",
    "print(df.head(2))"
   ]
  },
  {
   "cell_type": "code",
   "execution_count": 45,
   "id": "09f47a39",
   "metadata": {},
   "outputs": [
    {
     "name": "stdout",
     "output_type": "stream",
     "text": [
      "<class 'pandas.core.frame.DataFrame'>\n",
      "RangeIndex: 13 entries, 0 to 12\n",
      "Data columns (total 9 columns):\n",
      " #   Column  Non-Null Count  Dtype \n",
      "---  ------  --------------  ----- \n",
      " 0   日期      13 non-null     object\n",
      " 1   成交股數    13 non-null     object\n",
      " 2   成交金額    13 non-null     object\n",
      " 3   開盤價     13 non-null     object\n",
      " 4   最高價     13 non-null     object\n",
      " 5   最低價     13 non-null     object\n",
      " 6   收盤價     13 non-null     object\n",
      " 7   漲跌價差    13 non-null     object\n",
      " 8   成交筆數    13 non-null     object\n",
      "dtypes: object(9)\n",
      "memory usage: 1.0+ KB\n"
     ]
    }
   ],
   "source": [
    "df.info()"
   ]
  },
  {
   "cell_type": "code",
   "execution_count": 46,
   "id": "e1fce78c",
   "metadata": {
    "scrolled": true
   },
   "outputs": [],
   "source": [
    "df['日期']= df['日期'].str.replace(str(110), str(110+1911))"
   ]
  },
  {
   "cell_type": "code",
   "execution_count": 47,
   "id": "7af2109c",
   "metadata": {},
   "outputs": [],
   "source": [
    "remove_comma= lambda x: x.str.replace(',','')"
   ]
  },
  {
   "cell_type": "code",
   "execution_count": 48,
   "id": "81ffd9f9",
   "metadata": {},
   "outputs": [],
   "source": [
    "df[['成交股數', '成交金額','成交筆數']]= df[['成交股數', '成交金額','成交筆數']].apply(remove_comma)"
   ]
  },
  {
   "cell_type": "code",
   "execution_count": 49,
   "id": "26759ef7",
   "metadata": {
    "scrolled": true
   },
   "outputs": [
    {
     "data": {
      "text/html": [
       "<div>\n",
       "<style scoped>\n",
       "    .dataframe tbody tr th:only-of-type {\n",
       "        vertical-align: middle;\n",
       "    }\n",
       "\n",
       "    .dataframe tbody tr th {\n",
       "        vertical-align: top;\n",
       "    }\n",
       "\n",
       "    .dataframe thead th {\n",
       "        text-align: right;\n",
       "    }\n",
       "</style>\n",
       "<table border=\"1\" class=\"dataframe\">\n",
       "  <thead>\n",
       "    <tr style=\"text-align: right;\">\n",
       "      <th></th>\n",
       "      <th>日期</th>\n",
       "      <th>成交股數</th>\n",
       "      <th>成交金額</th>\n",
       "      <th>開盤價</th>\n",
       "      <th>最高價</th>\n",
       "      <th>最低價</th>\n",
       "      <th>收盤價</th>\n",
       "      <th>漲跌價差</th>\n",
       "      <th>成交筆數</th>\n",
       "    </tr>\n",
       "  </thead>\n",
       "  <tbody>\n",
       "    <tr>\n",
       "      <th>0</th>\n",
       "      <td>2021/02/01</td>\n",
       "      <td>15774851</td>\n",
       "      <td>174213855</td>\n",
       "      <td>10.95</td>\n",
       "      <td>11.10</td>\n",
       "      <td>10.95</td>\n",
       "      <td>11.10</td>\n",
       "      <td>+0.15</td>\n",
       "      <td>3658</td>\n",
       "    </tr>\n",
       "    <tr>\n",
       "      <th>1</th>\n",
       "      <td>2021/02/02</td>\n",
       "      <td>15968550</td>\n",
       "      <td>177788390</td>\n",
       "      <td>11.10</td>\n",
       "      <td>11.20</td>\n",
       "      <td>11.05</td>\n",
       "      <td>11.10</td>\n",
       "      <td>0.00</td>\n",
       "      <td>4614</td>\n",
       "    </tr>\n",
       "    <tr>\n",
       "      <th>2</th>\n",
       "      <td>2021/02/03</td>\n",
       "      <td>14320465</td>\n",
       "      <td>159159629</td>\n",
       "      <td>11.15</td>\n",
       "      <td>11.15</td>\n",
       "      <td>11.10</td>\n",
       "      <td>11.10</td>\n",
       "      <td>0.00</td>\n",
       "      <td>3325</td>\n",
       "    </tr>\n",
       "    <tr>\n",
       "      <th>3</th>\n",
       "      <td>2021/02/04</td>\n",
       "      <td>9014880</td>\n",
       "      <td>100384768</td>\n",
       "      <td>11.10</td>\n",
       "      <td>11.15</td>\n",
       "      <td>11.05</td>\n",
       "      <td>11.15</td>\n",
       "      <td>+0.05</td>\n",
       "      <td>1570</td>\n",
       "    </tr>\n",
       "    <tr>\n",
       "      <th>4</th>\n",
       "      <td>2021/02/05</td>\n",
       "      <td>22475020</td>\n",
       "      <td>250849062</td>\n",
       "      <td>11.15</td>\n",
       "      <td>11.25</td>\n",
       "      <td>11.10</td>\n",
       "      <td>11.20</td>\n",
       "      <td>+0.05</td>\n",
       "      <td>3126</td>\n",
       "    </tr>\n",
       "  </tbody>\n",
       "</table>\n",
       "</div>"
      ],
      "text/plain": [
       "           日期      成交股數       成交金額    開盤價    最高價    最低價    收盤價   漲跌價差  成交筆數\n",
       "0  2021/02/01  15774851  174213855  10.95  11.10  10.95  11.10  +0.15  3658\n",
       "1  2021/02/02  15968550  177788390  11.10  11.20  11.05  11.10   0.00  4614\n",
       "2  2021/02/03  14320465  159159629  11.15  11.15  11.10  11.10   0.00  3325\n",
       "3  2021/02/04   9014880  100384768  11.10  11.15  11.05  11.15  +0.05  1570\n",
       "4  2021/02/05  22475020  250849062  11.15  11.25  11.10  11.20  +0.05  3126"
      ]
     },
     "execution_count": 49,
     "metadata": {},
     "output_type": "execute_result"
    }
   ],
   "source": [
    "df.head()"
   ]
  },
  {
   "cell_type": "code",
   "execution_count": 50,
   "id": "5688f72e",
   "metadata": {},
   "outputs": [],
   "source": [
    "dtypes= {'日期': 'datetime64', '成交股數': 'int',\\\n",
    "         '成交金額': 'int64', '開盤價':'float', \\\n",
    "         '最高價':'float', '最低價':'float', \\\n",
    "         '收盤價':'float', '漲跌價差':'float', '成交筆數':'int64'}"
   ]
  },
  {
   "cell_type": "code",
   "execution_count": 51,
   "id": "81c8802c",
   "metadata": {},
   "outputs": [],
   "source": [
    "df= df.astype(dtypes)"
   ]
  },
  {
   "cell_type": "code",
   "execution_count": 52,
   "id": "00b8dec7",
   "metadata": {},
   "outputs": [
    {
     "name": "stdout",
     "output_type": "stream",
     "text": [
      "<class 'pandas.core.frame.DataFrame'>\n",
      "RangeIndex: 13 entries, 0 to 12\n",
      "Data columns (total 9 columns):\n",
      " #   Column  Non-Null Count  Dtype         \n",
      "---  ------  --------------  -----         \n",
      " 0   日期      13 non-null     datetime64[ns]\n",
      " 1   成交股數    13 non-null     int64         \n",
      " 2   成交金額    13 non-null     int64         \n",
      " 3   開盤價     13 non-null     float64       \n",
      " 4   最高價     13 non-null     float64       \n",
      " 5   最低價     13 non-null     float64       \n",
      " 6   收盤價     13 non-null     float64       \n",
      " 7   漲跌價差    13 non-null     float64       \n",
      " 8   成交筆數    13 non-null     int64         \n",
      "dtypes: datetime64[ns](1), float64(5), int64(3)\n",
      "memory usage: 1.0 KB\n"
     ]
    }
   ],
   "source": [
    "df.info()"
   ]
  },
  {
   "cell_type": "code",
   "execution_count": 58,
   "id": "160f6689",
   "metadata": {},
   "outputs": [],
   "source": [
    "df= df.set_index('日期')"
   ]
  },
  {
   "cell_type": "code",
   "execution_count": 59,
   "id": "153772c3",
   "metadata": {},
   "outputs": [
    {
     "data": {
      "text/html": [
       "<div>\n",
       "<style scoped>\n",
       "    .dataframe tbody tr th:only-of-type {\n",
       "        vertical-align: middle;\n",
       "    }\n",
       "\n",
       "    .dataframe tbody tr th {\n",
       "        vertical-align: top;\n",
       "    }\n",
       "\n",
       "    .dataframe thead th {\n",
       "        text-align: right;\n",
       "    }\n",
       "</style>\n",
       "<table border=\"1\" class=\"dataframe\">\n",
       "  <thead>\n",
       "    <tr style=\"text-align: right;\">\n",
       "      <th></th>\n",
       "      <th>成交股數</th>\n",
       "      <th>成交金額</th>\n",
       "      <th>開盤價</th>\n",
       "      <th>最高價</th>\n",
       "      <th>最低價</th>\n",
       "      <th>收盤價</th>\n",
       "      <th>漲跌價差</th>\n",
       "      <th>成交筆數</th>\n",
       "    </tr>\n",
       "    <tr>\n",
       "      <th>日期</th>\n",
       "      <th></th>\n",
       "      <th></th>\n",
       "      <th></th>\n",
       "      <th></th>\n",
       "      <th></th>\n",
       "      <th></th>\n",
       "      <th></th>\n",
       "      <th></th>\n",
       "    </tr>\n",
       "  </thead>\n",
       "  <tbody>\n",
       "    <tr>\n",
       "      <th>2021-02-01</th>\n",
       "      <td>15774851</td>\n",
       "      <td>174213855</td>\n",
       "      <td>10.95</td>\n",
       "      <td>11.10</td>\n",
       "      <td>10.95</td>\n",
       "      <td>11.10</td>\n",
       "      <td>0.15</td>\n",
       "      <td>3658</td>\n",
       "    </tr>\n",
       "    <tr>\n",
       "      <th>2021-02-02</th>\n",
       "      <td>15968550</td>\n",
       "      <td>177788390</td>\n",
       "      <td>11.10</td>\n",
       "      <td>11.20</td>\n",
       "      <td>11.05</td>\n",
       "      <td>11.10</td>\n",
       "      <td>0.00</td>\n",
       "      <td>4614</td>\n",
       "    </tr>\n",
       "    <tr>\n",
       "      <th>2021-02-03</th>\n",
       "      <td>14320465</td>\n",
       "      <td>159159629</td>\n",
       "      <td>11.15</td>\n",
       "      <td>11.15</td>\n",
       "      <td>11.10</td>\n",
       "      <td>11.10</td>\n",
       "      <td>0.00</td>\n",
       "      <td>3325</td>\n",
       "    </tr>\n",
       "    <tr>\n",
       "      <th>2021-02-04</th>\n",
       "      <td>9014880</td>\n",
       "      <td>100384768</td>\n",
       "      <td>11.10</td>\n",
       "      <td>11.15</td>\n",
       "      <td>11.05</td>\n",
       "      <td>11.15</td>\n",
       "      <td>0.05</td>\n",
       "      <td>1570</td>\n",
       "    </tr>\n",
       "    <tr>\n",
       "      <th>2021-02-05</th>\n",
       "      <td>22475020</td>\n",
       "      <td>250849062</td>\n",
       "      <td>11.15</td>\n",
       "      <td>11.25</td>\n",
       "      <td>11.10</td>\n",
       "      <td>11.20</td>\n",
       "      <td>0.05</td>\n",
       "      <td>3126</td>\n",
       "    </tr>\n",
       "  </tbody>\n",
       "</table>\n",
       "</div>"
      ],
      "text/plain": [
       "                成交股數       成交金額    開盤價    最高價    最低價    收盤價  漲跌價差  成交筆數\n",
       "日期                                                                     \n",
       "2021-02-01  15774851  174213855  10.95  11.10  10.95  11.10  0.15  3658\n",
       "2021-02-02  15968550  177788390  11.10  11.20  11.05  11.10  0.00  4614\n",
       "2021-02-03  14320465  159159629  11.15  11.15  11.10  11.10  0.00  3325\n",
       "2021-02-04   9014880  100384768  11.10  11.15  11.05  11.15  0.05  1570\n",
       "2021-02-05  22475020  250849062  11.15  11.25  11.10  11.20  0.05  3126"
      ]
     },
     "execution_count": 59,
     "metadata": {},
     "output_type": "execute_result"
    }
   ],
   "source": [
    "df.head()"
   ]
  },
  {
   "cell_type": "code",
   "execution_count": 53,
   "id": "dff1eab4",
   "metadata": {},
   "outputs": [],
   "source": [
    "from datetime import datetime"
   ]
  },
  {
   "cell_type": "code",
   "execution_count": 54,
   "id": "4c17e26a",
   "metadata": {},
   "outputs": [
    {
     "data": {
      "text/plain": [
       "25"
      ]
     },
     "execution_count": 54,
     "metadata": {},
     "output_type": "execute_result"
    }
   ],
   "source": [
    "datetime.today().day"
   ]
  },
  {
   "cell_type": "code",
   "execution_count": 36,
   "id": "5f5b2e30",
   "metadata": {},
   "outputs": [],
   "source": [
    "import yfinance\n",
    "from datetime import datetime\n",
    "import mplfinance as mpf"
   ]
  },
  {
   "cell_type": "code",
   "execution_count": 37,
   "id": "d1b725a3",
   "metadata": {},
   "outputs": [],
   "source": [
    "stock= yfinance.Ticker('5880.tw')"
   ]
  },
  {
   "cell_type": "code",
   "execution_count": 23,
   "id": "4fb7e53f",
   "metadata": {},
   "outputs": [
    {
     "name": "stdout",
     "output_type": "stream",
     "text": [
      "                 Open       High        Low      Close    Volume  Dividends  \\\n",
      "Date                                                                          \n",
      "2019-04-29  16.670550  16.834791  16.670550  16.834791  11080413        0.0   \n",
      "2019-04-30  16.875853  16.875853  16.711610  16.834791   9881325        0.0   \n",
      "2019-05-02  16.793731  16.875853  16.752671  16.834791  11530737        0.0   \n",
      "2019-05-03  16.834792  16.834792  16.752671  16.793732  14319070        0.0   \n",
      "2019-05-06  16.711611  16.752672  16.506310  16.588430  14244616        0.0   \n",
      "\n",
      "            Stock Splits  \n",
      "Date                      \n",
      "2019-04-29           0.0  \n",
      "2019-04-30           0.0  \n",
      "2019-05-02           0.0  \n",
      "2019-05-03           0.0  \n",
      "2019-05-06           0.0  \n"
     ]
    }
   ],
   "source": [
    "history= stock.history(period='3y')\n",
    "print(history.head())"
   ]
  },
  {
   "cell_type": "code",
   "execution_count": 32,
   "id": "f30c2219",
   "metadata": {
    "scrolled": false
   },
   "outputs": [
    {
     "data": {
      "image/png": "[encoded data removed]",
      "text/plain": [
       "<Figure size 800x575 with 2 Axes>"
      ]
     },
     "metadata": {},
     "output_type": "display_data"
    }
   ],
   "source": [
    "mpf.plot(history.resample('1W', label='left').mean())"
   ]
  },
  {
   "cell_type": "code",
   "execution_count": null,
   "id": "66631c3e",
   "metadata": {},
   "outputs": [],
   "source": []
  }
 ],
 "metadata": {
  "kernelspec": {
   "display_name": "Python 3 (ipykernel)",
   "language": "python",
   "name": "python3"
  },
  "language_info": {
   "codemirror_mode": {
    "name": "ipython",
    "version": 3
   },
   "file_extension": ".py",
   "mimetype": "text/x-python",
   "name": "python",
   "nbconvert_exporter": "python",
   "pygments_lexer": "ipython3",
   "version": "3.9.7"
  }
 },
 "nbformat": 4,
 "nbformat_minor": 5
}
